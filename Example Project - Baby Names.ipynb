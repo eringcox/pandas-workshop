{
 "cells": [
  {
   "cell_type": "markdown",
   "metadata": {},
   "source": [
    "## USA Baby Names 1880-2016\n",
    "\n",
    "The United States Social Security Administration maintains an interesting data set of (almost) all names given to babies born in the United States, by sex and year, going back to 1880. This data set is available at [https://www.ssa.gov/oact/babynames/limits.html](https://www.ssa.gov/oact/babynames/limits.html)\n",
    "\n",
    "This data set is interesting and fun to explore and we'll use it as the basis of a simple data analysis project with the end goal of creating a script that can be called to output a plot of a single name's popularity over time."
   ]
  },
  {
   "cell_type": "markdown",
   "metadata": {},
   "source": [
    "To start, we will assume that this dataset has already been downloaded and <font color=\"red\"><b> unzipped </b></font> into a subfolder called names."
   ]
  },
  {
   "cell_type": "code",
   "execution_count": 1,
   "metadata": {},
   "outputs": [],
   "source": [
    "import platform # some of the subsequent code depends on operating system\n",
    "\n",
    "import pandas as pd\n",
    "import matplotlib.pyplot as plt\n",
    "import seaborn as sns"
   ]
  },
  {
   "cell_type": "code",
   "execution_count": 2,
   "metadata": {},
   "outputs": [],
   "source": [
    "# Set up some variables for use later\n",
    "dataset_path_windows = 'data\\\\names'   # Windows\n",
    "dataset_path_nix = './data/names'   # UNIX, Linux\n",
    "\n",
    "begin_year = 1880\n",
    "end_year = 2016"
   ]
  },
  {
   "cell_type": "code",
   "execution_count": 3,
   "metadata": {},
   "outputs": [
    {
     "data": {
      "text/plain": [
       "'Darwin'"
      ]
     },
     "execution_count": 3,
     "metadata": {},
     "output_type": "execute_result"
    }
   ],
   "source": [
    "# The subsequent non-python commands depend on your operating system\n",
    "platform.system()  # show name of operating system"
   ]
  },
  {
   "cell_type": "code",
   "execution_count": 4,
   "metadata": {},
   "outputs": [],
   "source": [
    "if platform.system()=='Windows':\n",
    "    dataset_path = dataset_path_windows\n",
    "else:\n",
    "    dataset_path = dataset_path_nix"
   ]
  },
  {
   "cell_type": "markdown",
   "metadata": {},
   "source": [
    "Let's first examine the data files to see what we're working with. Note the `type` command on Windows is equivalent to `cat` on MacOS or Linux."
   ]
  },
  {
   "cell_type": "code",
   "execution_count": 5,
   "metadata": {},
   "outputs": [
    {
     "name": "stdout",
     "output_type": "stream",
     "text": [
      "\u001b[31mNationalReadMe.pdf\u001b[m\u001b[m \u001b[31myob1914.txt\u001b[m\u001b[m        \u001b[31myob1949.txt\u001b[m\u001b[m        \u001b[31myob1984.txt\u001b[m\u001b[m\r\n",
      "\u001b[31myob1880.txt\u001b[m\u001b[m        \u001b[31myob1915.txt\u001b[m\u001b[m        \u001b[31myob1950.txt\u001b[m\u001b[m        \u001b[31myob1985.txt\u001b[m\u001b[m\r\n",
      "\u001b[31myob1881.txt\u001b[m\u001b[m        \u001b[31myob1916.txt\u001b[m\u001b[m        \u001b[31myob1951.txt\u001b[m\u001b[m        \u001b[31myob1986.txt\u001b[m\u001b[m\r\n",
      "\u001b[31myob1882.txt\u001b[m\u001b[m        \u001b[31myob1917.txt\u001b[m\u001b[m        \u001b[31myob1952.txt\u001b[m\u001b[m        \u001b[31myob1987.txt\u001b[m\u001b[m\r\n",
      "\u001b[31myob1883.txt\u001b[m\u001b[m        \u001b[31myob1918.txt\u001b[m\u001b[m        \u001b[31myob1953.txt\u001b[m\u001b[m        \u001b[31myob1988.txt\u001b[m\u001b[m\r\n",
      "\u001b[31myob1884.txt\u001b[m\u001b[m        \u001b[31myob1919.txt\u001b[m\u001b[m        \u001b[31myob1954.txt\u001b[m\u001b[m        \u001b[31myob1989.txt\u001b[m\u001b[m\r\n",
      "\u001b[31myob1885.txt\u001b[m\u001b[m        \u001b[31myob1920.txt\u001b[m\u001b[m        \u001b[31myob1955.txt\u001b[m\u001b[m        \u001b[31myob1990.txt\u001b[m\u001b[m\r\n",
      "\u001b[31myob1886.txt\u001b[m\u001b[m        \u001b[31myob1921.txt\u001b[m\u001b[m        \u001b[31myob1956.txt\u001b[m\u001b[m        \u001b[31myob1991.txt\u001b[m\u001b[m\r\n",
      "\u001b[31myob1887.txt\u001b[m\u001b[m        \u001b[31myob1922.txt\u001b[m\u001b[m        \u001b[31myob1957.txt\u001b[m\u001b[m        \u001b[31myob1992.txt\u001b[m\u001b[m\r\n",
      "\u001b[31myob1888.txt\u001b[m\u001b[m        \u001b[31myob1923.txt\u001b[m\u001b[m        \u001b[31myob1958.txt\u001b[m\u001b[m        \u001b[31myob1993.txt\u001b[m\u001b[m\r\n",
      "\u001b[31myob1889.txt\u001b[m\u001b[m        \u001b[31myob1924.txt\u001b[m\u001b[m        \u001b[31myob1959.txt\u001b[m\u001b[m        \u001b[31myob1994.txt\u001b[m\u001b[m\r\n",
      "\u001b[31myob1890.txt\u001b[m\u001b[m        \u001b[31myob1925.txt\u001b[m\u001b[m        \u001b[31myob1960.txt\u001b[m\u001b[m        \u001b[31myob1995.txt\u001b[m\u001b[m\r\n",
      "\u001b[31myob1891.txt\u001b[m\u001b[m        \u001b[31myob1926.txt\u001b[m\u001b[m        \u001b[31myob1961.txt\u001b[m\u001b[m        \u001b[31myob1996.txt\u001b[m\u001b[m\r\n",
      "\u001b[31myob1892.txt\u001b[m\u001b[m        \u001b[31myob1927.txt\u001b[m\u001b[m        \u001b[31myob1962.txt\u001b[m\u001b[m        \u001b[31myob1997.txt\u001b[m\u001b[m\r\n",
      "\u001b[31myob1893.txt\u001b[m\u001b[m        \u001b[31myob1928.txt\u001b[m\u001b[m        \u001b[31myob1963.txt\u001b[m\u001b[m        \u001b[31myob1998.txt\u001b[m\u001b[m\r\n",
      "\u001b[31myob1894.txt\u001b[m\u001b[m        \u001b[31myob1929.txt\u001b[m\u001b[m        \u001b[31myob1964.txt\u001b[m\u001b[m        \u001b[31myob1999.txt\u001b[m\u001b[m\r\n",
      "\u001b[31myob1895.txt\u001b[m\u001b[m        \u001b[31myob1930.txt\u001b[m\u001b[m        \u001b[31myob1965.txt\u001b[m\u001b[m        \u001b[31myob2000.txt\u001b[m\u001b[m\r\n",
      "\u001b[31myob1896.txt\u001b[m\u001b[m        \u001b[31myob1931.txt\u001b[m\u001b[m        \u001b[31myob1966.txt\u001b[m\u001b[m        \u001b[31myob2001.txt\u001b[m\u001b[m\r\n",
      "\u001b[31myob1897.txt\u001b[m\u001b[m        \u001b[31myob1932.txt\u001b[m\u001b[m        \u001b[31myob1967.txt\u001b[m\u001b[m        \u001b[31myob2002.txt\u001b[m\u001b[m\r\n",
      "\u001b[31myob1898.txt\u001b[m\u001b[m        \u001b[31myob1933.txt\u001b[m\u001b[m        \u001b[31myob1968.txt\u001b[m\u001b[m        \u001b[31myob2003.txt\u001b[m\u001b[m\r\n",
      "\u001b[31myob1899.txt\u001b[m\u001b[m        \u001b[31myob1934.txt\u001b[m\u001b[m        \u001b[31myob1969.txt\u001b[m\u001b[m        \u001b[31myob2004.txt\u001b[m\u001b[m\r\n",
      "\u001b[31myob1900.txt\u001b[m\u001b[m        \u001b[31myob1935.txt\u001b[m\u001b[m        \u001b[31myob1970.txt\u001b[m\u001b[m        \u001b[31myob2005.txt\u001b[m\u001b[m\r\n",
      "\u001b[31myob1901.txt\u001b[m\u001b[m        \u001b[31myob1936.txt\u001b[m\u001b[m        \u001b[31myob1971.txt\u001b[m\u001b[m        \u001b[31myob2006.txt\u001b[m\u001b[m\r\n",
      "\u001b[31myob1902.txt\u001b[m\u001b[m        \u001b[31myob1937.txt\u001b[m\u001b[m        \u001b[31myob1972.txt\u001b[m\u001b[m        \u001b[31myob2007.txt\u001b[m\u001b[m\r\n",
      "\u001b[31myob1903.txt\u001b[m\u001b[m        \u001b[31myob1938.txt\u001b[m\u001b[m        \u001b[31myob1973.txt\u001b[m\u001b[m        \u001b[31myob2008.txt\u001b[m\u001b[m\r\n",
      "\u001b[31myob1904.txt\u001b[m\u001b[m        \u001b[31myob1939.txt\u001b[m\u001b[m        \u001b[31myob1974.txt\u001b[m\u001b[m        \u001b[31myob2009.txt\u001b[m\u001b[m\r\n",
      "\u001b[31myob1905.txt\u001b[m\u001b[m        \u001b[31myob1940.txt\u001b[m\u001b[m        \u001b[31myob1975.txt\u001b[m\u001b[m        \u001b[31myob2010.txt\u001b[m\u001b[m\r\n",
      "\u001b[31myob1906.txt\u001b[m\u001b[m        \u001b[31myob1941.txt\u001b[m\u001b[m        \u001b[31myob1976.txt\u001b[m\u001b[m        \u001b[31myob2011.txt\u001b[m\u001b[m\r\n",
      "\u001b[31myob1907.txt\u001b[m\u001b[m        \u001b[31myob1942.txt\u001b[m\u001b[m        \u001b[31myob1977.txt\u001b[m\u001b[m        \u001b[31myob2012.txt\u001b[m\u001b[m\r\n",
      "\u001b[31myob1908.txt\u001b[m\u001b[m        \u001b[31myob1943.txt\u001b[m\u001b[m        \u001b[31myob1978.txt\u001b[m\u001b[m        \u001b[31myob2013.txt\u001b[m\u001b[m\r\n",
      "\u001b[31myob1909.txt\u001b[m\u001b[m        \u001b[31myob1944.txt\u001b[m\u001b[m        \u001b[31myob1979.txt\u001b[m\u001b[m        \u001b[31myob2014.txt\u001b[m\u001b[m\r\n",
      "\u001b[31myob1910.txt\u001b[m\u001b[m        \u001b[31myob1945.txt\u001b[m\u001b[m        \u001b[31myob1980.txt\u001b[m\u001b[m        \u001b[31myob2015.txt\u001b[m\u001b[m\r\n",
      "\u001b[31myob1911.txt\u001b[m\u001b[m        \u001b[31myob1946.txt\u001b[m\u001b[m        \u001b[31myob1981.txt\u001b[m\u001b[m        \u001b[31myob2016.txt\u001b[m\u001b[m\r\n",
      "\u001b[31myob1912.txt\u001b[m\u001b[m        \u001b[31myob1947.txt\u001b[m\u001b[m        \u001b[31myob1982.txt\u001b[m\u001b[m\r\n",
      "\u001b[31myob1913.txt\u001b[m\u001b[m        \u001b[31myob1948.txt\u001b[m\u001b[m        \u001b[31myob1983.txt\u001b[m\u001b[m\r\n"
     ]
    }
   ],
   "source": [
    "# List files folder using the inbuilt commands of your operating system\n",
    "# jupyter notebooks can call the operating system by using the exclamation mark\n",
    "if platform.system()=='Windows':\n",
    "    !dir $dataset_path\n",
    "else:\n",
    "    !ls $dataset_path"
   ]
  },
  {
   "cell_type": "code",
   "execution_count": 6,
   "metadata": {},
   "outputs": [
    {
     "data": {
      "text/plain": [
       "['Mary,F,7065',\n",
       " 'Anna,F,2604',\n",
       " 'Emma,F,2003',\n",
       " 'Elizabeth,F,1939',\n",
       " 'Minnie,F,1746']"
      ]
     },
     "execution_count": 6,
     "metadata": {},
     "output_type": "execute_result"
    }
   ],
   "source": [
    "# Read a single file into a python variable and print out the first five lines\n",
    "if platform.system()=='Windows':\n",
    "    sample = !type $dataset_path\\\\yob1880.txt\n",
    "else:\n",
    "    sample = !cat $dataset_path/yob1880.txt\n",
    "\n",
    "sample[:5]"
   ]
  },
  {
   "cell_type": "markdown",
   "metadata": {},
   "source": [
    "We will need a function to read in all of these files one by one and combine them into a single dataframe. Note that Pandas will correctly intepret the paths to the files, irrespectively of whether they were formulated in a Windows or Unix-based manner."
   ]
  },
  {
   "cell_type": "code",
   "execution_count": 7,
   "metadata": {},
   "outputs": [],
   "source": [
    "def create_dataframe(begin_year, end_year):\n",
    "    columns = ('name', 'sex', 'births')\n",
    "    pieces = []\n",
    "    for year in range(begin_year, end_year + 1):\n",
    "        filename = '%s/yob%d.txt' % (dataset_path, year)\n",
    "        piece = pd.read_csv(filename, names=columns)\n",
    "        piece['year'] = year\n",
    "        pieces.append(piece)\n",
    "        \n",
    "    return pd.concat(pieces, ignore_index=True)"
   ]
  },
  {
   "cell_type": "code",
   "execution_count": 8,
   "metadata": {},
   "outputs": [
    {
     "data": {
      "text/html": [
       "<div>\n",
       "<style scoped>\n",
       "    .dataframe tbody tr th:only-of-type {\n",
       "        vertical-align: middle;\n",
       "    }\n",
       "\n",
       "    .dataframe tbody tr th {\n",
       "        vertical-align: top;\n",
       "    }\n",
       "\n",
       "    .dataframe thead th {\n",
       "        text-align: right;\n",
       "    }\n",
       "</style>\n",
       "<table border=\"1\" class=\"dataframe\">\n",
       "  <thead>\n",
       "    <tr style=\"text-align: right;\">\n",
       "      <th></th>\n",
       "      <th>name</th>\n",
       "      <th>sex</th>\n",
       "      <th>births</th>\n",
       "      <th>year</th>\n",
       "    </tr>\n",
       "  </thead>\n",
       "  <tbody>\n",
       "    <tr>\n",
       "      <th>0</th>\n",
       "      <td>Mary</td>\n",
       "      <td>F</td>\n",
       "      <td>7065</td>\n",
       "      <td>1880</td>\n",
       "    </tr>\n",
       "    <tr>\n",
       "      <th>1</th>\n",
       "      <td>Anna</td>\n",
       "      <td>F</td>\n",
       "      <td>2604</td>\n",
       "      <td>1880</td>\n",
       "    </tr>\n",
       "    <tr>\n",
       "      <th>2</th>\n",
       "      <td>Emma</td>\n",
       "      <td>F</td>\n",
       "      <td>2003</td>\n",
       "      <td>1880</td>\n",
       "    </tr>\n",
       "    <tr>\n",
       "      <th>3</th>\n",
       "      <td>Elizabeth</td>\n",
       "      <td>F</td>\n",
       "      <td>1939</td>\n",
       "      <td>1880</td>\n",
       "    </tr>\n",
       "    <tr>\n",
       "      <th>4</th>\n",
       "      <td>Minnie</td>\n",
       "      <td>F</td>\n",
       "      <td>1746</td>\n",
       "      <td>1880</td>\n",
       "    </tr>\n",
       "  </tbody>\n",
       "</table>\n",
       "</div>"
      ],
      "text/plain": [
       "        name sex  births  year\n",
       "0       Mary   F    7065  1880\n",
       "1       Anna   F    2604  1880\n",
       "2       Emma   F    2003  1880\n",
       "3  Elizabeth   F    1939  1880\n",
       "4     Minnie   F    1746  1880"
      ]
     },
     "execution_count": 8,
     "metadata": {},
     "output_type": "execute_result"
    }
   ],
   "source": [
    "# Now call our new function to get the dataset loaded into a Dataframe.\n",
    "df = create_dataframe(begin_year, end_year)\n",
    "df.head()"
   ]
  },
  {
   "cell_type": "markdown",
   "metadata": {},
   "source": [
    "Now lets explore this data a little, first, how many records do we have?"
   ]
  },
  {
   "cell_type": "code",
   "execution_count": 9,
   "metadata": {},
   "outputs": [
    {
     "data": {
      "text/plain": [
       "1891894"
      ]
     },
     "execution_count": 9,
     "metadata": {},
     "output_type": "execute_result"
    }
   ],
   "source": [
    "len(df)"
   ]
  },
  {
   "cell_type": "markdown",
   "metadata": {},
   "source": [
    "Now lets look at a specific name, lets make a new dataframe that includes only your name and look at the first 5 rows"
   ]
  },
  {
   "cell_type": "code",
   "execution_count": 15,
   "metadata": {
    "scrolled": true
   },
   "outputs": [
    {
     "data": {
      "text/html": [
       "<div>\n",
       "<style scoped>\n",
       "    .dataframe tbody tr th:only-of-type {\n",
       "        vertical-align: middle;\n",
       "    }\n",
       "\n",
       "    .dataframe tbody tr th {\n",
       "        vertical-align: top;\n",
       "    }\n",
       "\n",
       "    .dataframe thead th {\n",
       "        text-align: right;\n",
       "    }\n",
       "</style>\n",
       "<table border=\"1\" class=\"dataframe\">\n",
       "  <thead>\n",
       "    <tr style=\"text-align: right;\">\n",
       "      <th></th>\n",
       "      <th>name</th>\n",
       "      <th>sex</th>\n",
       "      <th>births</th>\n",
       "      <th>year</th>\n",
       "    </tr>\n",
       "  </thead>\n",
       "  <tbody>\n",
       "    <tr>\n",
       "      <th>18848</th>\n",
       "      <td>Erin</td>\n",
       "      <td>F</td>\n",
       "      <td>5</td>\n",
       "      <td>1888</td>\n",
       "    </tr>\n",
       "    <tr>\n",
       "      <th>21338</th>\n",
       "      <td>Erin</td>\n",
       "      <td>F</td>\n",
       "      <td>6</td>\n",
       "      <td>1889</td>\n",
       "    </tr>\n",
       "    <tr>\n",
       "      <th>23702</th>\n",
       "      <td>Erin</td>\n",
       "      <td>F</td>\n",
       "      <td>9</td>\n",
       "      <td>1890</td>\n",
       "    </tr>\n",
       "    <tr>\n",
       "      <th>35406</th>\n",
       "      <td>Erin</td>\n",
       "      <td>F</td>\n",
       "      <td>5</td>\n",
       "      <td>1894</td>\n",
       "    </tr>\n",
       "    <tr>\n",
       "      <th>37798</th>\n",
       "      <td>Erin</td>\n",
       "      <td>F</td>\n",
       "      <td>11</td>\n",
       "      <td>1895</td>\n",
       "    </tr>\n",
       "  </tbody>\n",
       "</table>\n",
       "</div>"
      ],
      "text/plain": [
       "       name sex  births  year\n",
       "18848  Erin   F       5  1888\n",
       "21338  Erin   F       6  1889\n",
       "23702  Erin   F       9  1890\n",
       "35406  Erin   F       5  1894\n",
       "37798  Erin   F      11  1895"
      ]
     },
     "execution_count": 15,
     "metadata": {},
     "output_type": "execute_result"
    }
   ],
   "source": [
    "#mostly good if there are multiple names like alex/alexander\n",
    "#erin = df[df.name.isin(['Erin'])]\n",
    "erin = df[df.name == 'Erin']\n",
    "erin.head()"
   ]
  },
  {
   "cell_type": "markdown",
   "metadata": {},
   "source": [
    "Lets now look at some stats for your name"
   ]
  },
  {
   "cell_type": "code",
   "execution_count": 16,
   "metadata": {},
   "outputs": [
    {
     "data": {
      "text/html": [
       "<div>\n",
       "<style scoped>\n",
       "    .dataframe tbody tr th:only-of-type {\n",
       "        vertical-align: middle;\n",
       "    }\n",
       "\n",
       "    .dataframe tbody tr th {\n",
       "        vertical-align: top;\n",
       "    }\n",
       "\n",
       "    .dataframe thead th {\n",
       "        text-align: right;\n",
       "    }\n",
       "</style>\n",
       "<table border=\"1\" class=\"dataframe\">\n",
       "  <thead>\n",
       "    <tr style=\"text-align: right;\">\n",
       "      <th></th>\n",
       "      <th>births</th>\n",
       "      <th>year</th>\n",
       "    </tr>\n",
       "  </thead>\n",
       "  <tbody>\n",
       "    <tr>\n",
       "      <th>count</th>\n",
       "      <td>206.000000</td>\n",
       "      <td>206.000000</td>\n",
       "    </tr>\n",
       "    <tr>\n",
       "      <th>mean</th>\n",
       "      <td>1557.747573</td>\n",
       "      <td>1962.257282</td>\n",
       "    </tr>\n",
       "    <tr>\n",
       "      <th>std</th>\n",
       "      <td>3165.721439</td>\n",
       "      <td>33.973689</td>\n",
       "    </tr>\n",
       "    <tr>\n",
       "      <th>min</th>\n",
       "      <td>5.000000</td>\n",
       "      <td>1888.000000</td>\n",
       "    </tr>\n",
       "    <tr>\n",
       "      <th>25%</th>\n",
       "      <td>18.250000</td>\n",
       "      <td>1938.250000</td>\n",
       "    </tr>\n",
       "    <tr>\n",
       "      <th>50%</th>\n",
       "      <td>89.000000</td>\n",
       "      <td>1965.000000</td>\n",
       "    </tr>\n",
       "    <tr>\n",
       "      <th>75%</th>\n",
       "      <td>1163.000000</td>\n",
       "      <td>1990.750000</td>\n",
       "    </tr>\n",
       "    <tr>\n",
       "      <th>max</th>\n",
       "      <td>14838.000000</td>\n",
       "      <td>2016.000000</td>\n",
       "    </tr>\n",
       "  </tbody>\n",
       "</table>\n",
       "</div>"
      ],
      "text/plain": [
       "             births         year\n",
       "count    206.000000   206.000000\n",
       "mean    1557.747573  1962.257282\n",
       "std     3165.721439    33.973689\n",
       "min        5.000000  1888.000000\n",
       "25%       18.250000  1938.250000\n",
       "50%       89.000000  1965.000000\n",
       "75%     1163.000000  1990.750000\n",
       "max    14838.000000  2016.000000"
      ]
     },
     "execution_count": 16,
     "metadata": {},
     "output_type": "execute_result"
    }
   ],
   "source": [
    "erin.describe()"
   ]
  },
  {
   "cell_type": "markdown",
   "metadata": {},
   "source": [
    "When was your name at peak popularity?"
   ]
  },
  {
   "cell_type": "code",
   "execution_count": 21,
   "metadata": {},
   "outputs": [
    {
     "data": {
      "text/html": [
       "<div>\n",
       "<style scoped>\n",
       "    .dataframe tbody tr th:only-of-type {\n",
       "        vertical-align: middle;\n",
       "    }\n",
       "\n",
       "    .dataframe tbody tr th {\n",
       "        vertical-align: top;\n",
       "    }\n",
       "\n",
       "    .dataframe thead th {\n",
       "        text-align: right;\n",
       "    }\n",
       "</style>\n",
       "<table border=\"1\" class=\"dataframe\">\n",
       "  <thead>\n",
       "    <tr style=\"text-align: right;\">\n",
       "      <th></th>\n",
       "      <th>name</th>\n",
       "      <th>sex</th>\n",
       "      <th>births</th>\n",
       "      <th>year</th>\n",
       "    </tr>\n",
       "  </thead>\n",
       "  <tbody>\n",
       "    <tr>\n",
       "      <th>922422</th>\n",
       "      <td>Erin</td>\n",
       "      <td>F</td>\n",
       "      <td>14838</td>\n",
       "      <td>1983</td>\n",
       "    </tr>\n",
       "  </tbody>\n",
       "</table>\n",
       "</div>"
      ],
      "text/plain": [
       "        name sex  births  year\n",
       "922422  Erin   F   14838  1983"
      ]
     },
     "execution_count": 21,
     "metadata": {},
     "output_type": "execute_result"
    }
   ],
   "source": [
    "#can't just do erin.max() because will just grab the max from both columns\n",
    "erin[erin.births == erin.births.max()]"
   ]
  },
  {
   "cell_type": "markdown",
   "metadata": {},
   "source": [
    "How can we convert the raw birth numbers into percent of births that year? Lets make a new column for that"
   ]
  },
  {
   "cell_type": "code",
   "execution_count": 32,
   "metadata": {},
   "outputs": [
    {
     "data": {
      "text/html": [
       "<div>\n",
       "<style scoped>\n",
       "    .dataframe tbody tr th:only-of-type {\n",
       "        vertical-align: middle;\n",
       "    }\n",
       "\n",
       "    .dataframe tbody tr th {\n",
       "        vertical-align: top;\n",
       "    }\n",
       "\n",
       "    .dataframe thead th {\n",
       "        text-align: right;\n",
       "    }\n",
       "</style>\n",
       "<table border=\"1\" class=\"dataframe\">\n",
       "  <thead>\n",
       "    <tr style=\"text-align: right;\">\n",
       "      <th></th>\n",
       "      <th>name</th>\n",
       "      <th>sex</th>\n",
       "      <th>births_erin</th>\n",
       "      <th>year</th>\n",
       "      <th>births_total</th>\n",
       "      <th>percentage</th>\n",
       "    </tr>\n",
       "  </thead>\n",
       "  <tbody>\n",
       "    <tr>\n",
       "      <th>0</th>\n",
       "      <td>Erin</td>\n",
       "      <td>F</td>\n",
       "      <td>5.0</td>\n",
       "      <td>1888</td>\n",
       "      <td>299475</td>\n",
       "      <td>0.000017</td>\n",
       "    </tr>\n",
       "    <tr>\n",
       "      <th>1</th>\n",
       "      <td>Erin</td>\n",
       "      <td>F</td>\n",
       "      <td>6.0</td>\n",
       "      <td>1889</td>\n",
       "      <td>288947</td>\n",
       "      <td>0.000021</td>\n",
       "    </tr>\n",
       "    <tr>\n",
       "      <th>2</th>\n",
       "      <td>Erin</td>\n",
       "      <td>F</td>\n",
       "      <td>9.0</td>\n",
       "      <td>1890</td>\n",
       "      <td>301401</td>\n",
       "      <td>0.000030</td>\n",
       "    </tr>\n",
       "    <tr>\n",
       "      <th>3</th>\n",
       "      <td>Erin</td>\n",
       "      <td>F</td>\n",
       "      <td>5.0</td>\n",
       "      <td>1894</td>\n",
       "      <td>338691</td>\n",
       "      <td>0.000015</td>\n",
       "    </tr>\n",
       "    <tr>\n",
       "      <th>4</th>\n",
       "      <td>Erin</td>\n",
       "      <td>F</td>\n",
       "      <td>11.0</td>\n",
       "      <td>1895</td>\n",
       "      <td>351023</td>\n",
       "      <td>0.000031</td>\n",
       "    </tr>\n",
       "  </tbody>\n",
       "</table>\n",
       "</div>"
      ],
      "text/plain": [
       "   name sex  births_erin  year  births_total  percentage\n",
       "0  Erin   F          5.0  1888        299475    0.000017\n",
       "1  Erin   F          6.0  1889        288947    0.000021\n",
       "2  Erin   F          9.0  1890        301401    0.000030\n",
       "3  Erin   F          5.0  1894        338691    0.000015\n",
       "4  Erin   F         11.0  1895        351023    0.000031"
      ]
     },
     "execution_count": 32,
     "metadata": {},
     "output_type": "execute_result"
    }
   ],
   "source": [
    "#need to get the total number of births in a year\n",
    "#need to add the ['births'] even though it works without because births is the only column that you can sum in this\n",
    "#dataset, but might not be same in other datasets\n",
    "year_births = df.groupby('year')['births'].sum().reset_index()\n",
    "year_births.head()\n",
    "\n",
    "#to add this data frame to your data frame:\n",
    "newerin = erin.merge(year_births, how = 'outer', on = 'year', suffixes = ['_erin','_total'])\n",
    "newerin.head()\n",
    "\n",
    "#new column that is the percentages\n",
    "newerin['percentage'] = newerin['births_erin']/newerin['births_total']\n",
    "newerin.head()"
   ]
  },
  {
   "cell_type": "markdown",
   "metadata": {},
   "source": [
    "Wow, some of these percentages are really small, why dont we change it to number of births of a given name per million births that year"
   ]
  },
  {
   "cell_type": "code",
   "execution_count": 35,
   "metadata": {},
   "outputs": [
    {
     "data": {
      "text/html": [
       "<div>\n",
       "<style scoped>\n",
       "    .dataframe tbody tr th:only-of-type {\n",
       "        vertical-align: middle;\n",
       "    }\n",
       "\n",
       "    .dataframe tbody tr th {\n",
       "        vertical-align: top;\n",
       "    }\n",
       "\n",
       "    .dataframe thead th {\n",
       "        text-align: right;\n",
       "    }\n",
       "</style>\n",
       "<table border=\"1\" class=\"dataframe\">\n",
       "  <thead>\n",
       "    <tr style=\"text-align: right;\">\n",
       "      <th></th>\n",
       "      <th>name</th>\n",
       "      <th>sex</th>\n",
       "      <th>births_erin</th>\n",
       "      <th>year</th>\n",
       "      <th>births_total</th>\n",
       "      <th>percentage</th>\n",
       "      <th>per million</th>\n",
       "    </tr>\n",
       "  </thead>\n",
       "  <tbody>\n",
       "    <tr>\n",
       "      <th>0</th>\n",
       "      <td>Erin</td>\n",
       "      <td>F</td>\n",
       "      <td>5.0</td>\n",
       "      <td>1888</td>\n",
       "      <td>299475</td>\n",
       "      <td>0.000017</td>\n",
       "      <td>16.695884</td>\n",
       "    </tr>\n",
       "    <tr>\n",
       "      <th>1</th>\n",
       "      <td>Erin</td>\n",
       "      <td>F</td>\n",
       "      <td>6.0</td>\n",
       "      <td>1889</td>\n",
       "      <td>288947</td>\n",
       "      <td>0.000021</td>\n",
       "      <td>20.765054</td>\n",
       "    </tr>\n",
       "    <tr>\n",
       "      <th>2</th>\n",
       "      <td>Erin</td>\n",
       "      <td>F</td>\n",
       "      <td>9.0</td>\n",
       "      <td>1890</td>\n",
       "      <td>301401</td>\n",
       "      <td>0.000030</td>\n",
       "      <td>29.860551</td>\n",
       "    </tr>\n",
       "    <tr>\n",
       "      <th>3</th>\n",
       "      <td>Erin</td>\n",
       "      <td>F</td>\n",
       "      <td>5.0</td>\n",
       "      <td>1894</td>\n",
       "      <td>338691</td>\n",
       "      <td>0.000015</td>\n",
       "      <td>14.762719</td>\n",
       "    </tr>\n",
       "    <tr>\n",
       "      <th>4</th>\n",
       "      <td>Erin</td>\n",
       "      <td>F</td>\n",
       "      <td>11.0</td>\n",
       "      <td>1895</td>\n",
       "      <td>351023</td>\n",
       "      <td>0.000031</td>\n",
       "      <td>31.336978</td>\n",
       "    </tr>\n",
       "  </tbody>\n",
       "</table>\n",
       "</div>"
      ],
      "text/plain": [
       "   name sex  births_erin  year  births_total  percentage  per million\n",
       "0  Erin   F          5.0  1888        299475    0.000017    16.695884\n",
       "1  Erin   F          6.0  1889        288947    0.000021    20.765054\n",
       "2  Erin   F          9.0  1890        301401    0.000030    29.860551\n",
       "3  Erin   F          5.0  1894        338691    0.000015    14.762719\n",
       "4  Erin   F         11.0  1895        351023    0.000031    31.336978"
      ]
     },
     "execution_count": 35,
     "metadata": {},
     "output_type": "execute_result"
    }
   ],
   "source": [
    "newerin['per million'] = newerin['percentage']*10**6\n",
    "newerin.head()"
   ]
  },
  {
   "cell_type": "markdown",
   "metadata": {},
   "source": [
    "Why dont we make a graph of how common your name is over the years"
   ]
  },
  {
   "cell_type": "code",
   "execution_count": 36,
   "metadata": {},
   "outputs": [
    {
     "data": {
      "text/plain": [
       "<matplotlib.axes._subplots.AxesSubplot at 0x11fb0fd30>"
      ]
     },
     "execution_count": 36,
     "metadata": {},
     "output_type": "execute_result"
    },
    {
     "data": {
      "image/png": "[encoded data removed]",
      "text/plain": [
       "<Figure size 432x288 with 1 Axes>"
      ]
     },
     "metadata": {},
     "output_type": "display_data"
    }
   ],
   "source": [
    "sns.lineplot(x = 'year', y = 'per million', data = newerin)\n",
    "#shading is from male and female"
   ]
  },
  {
   "cell_type": "markdown",
   "metadata": {},
   "source": [
    "If your name is like mine, there is actually a bunch of shading indicating variance, why would that be?\n",
    "\n",
    "\n",
    "Its because this data is also split on gender, so there is a chance to have the name listed twice because of gender. The gender split could be interesting though, so lets look at it graphically"
   ]
  },
  {
   "cell_type": "code",
   "execution_count": 37,
   "metadata": {},
   "outputs": [
    {
     "data": {
      "text/plain": [
       "<matplotlib.axes._subplots.AxesSubplot at 0x1180ad2b0>"
      ]
     },
     "execution_count": 37,
     "metadata": {},
     "output_type": "execute_result"
    },
    {
     "data": {
      "image/png": "[encoded data removed]",
      "text/plain": [
       "<Figure size 432x288 with 1 Axes>"
      ]
     },
     "metadata": {},
     "output_type": "display_data"
    }
   ],
   "source": [
    "sns.lineplot(x = 'year', y = 'per million', hue = 'sex', data = newerin)"
   ]
  },
  {
   "cell_type": "markdown",
   "metadata": {},
   "source": [
    "There is a actually a really good breakdown of different name trends by Tim Urban at https://waitbutwhy.com/2013/12/how-to-name-baby.html\n",
    "\n",
    "so lets look quickly at a couple of the interesting trends he found with our code"
   ]
  },
  {
   "cell_type": "markdown",
   "metadata": {},
   "source": [
    "### Name Fads\n",
    "\n",
    "A name fad is when a specific name gets really popular for a specific generation, causing a person's age to be reasonable guessed based on their name alone.\n",
    "\n",
    "Check out Jennifer, Ashley, or Shirley for some examples"
   ]
  },
  {
   "cell_type": "code",
   "execution_count": 42,
   "metadata": {},
   "outputs": [
    {
     "data": {
      "text/plain": [
       "<matplotlib.axes._subplots.AxesSubplot at 0x119116b70>"
      ]
     },
     "execution_count": 42,
     "metadata": {},
     "output_type": "execute_result"
    },
    {
     "data": {
      "image/png": "[encoded data removed]",
      "text/plain": [
       "<Figure size 432x288 with 1 Axes>"
      ]
     },
     "metadata": {},
     "output_type": "display_data"
    }
   ],
   "source": [
    "erin = df[df.name == 'Jenniefer']\n",
    "\n",
    "sns.lineplot(x = 'year', y = 'births', hue = 'sex',data = erin)"
   ]
  },
  {
   "cell_type": "markdown",
   "metadata": {},
   "source": [
    "### Gender Takeovers\n",
    "\n",
    "Sometimes a name that is uncommon but solely one gender becomes extremely popular for the other gender, to the point that the original gender stops using it\n",
    "\n",
    "Check out Lynn or Aubrey"
   ]
  },
  {
   "cell_type": "code",
   "execution_count": 41,
   "metadata": {},
   "outputs": [
    {
     "data": {
      "text/plain": [
       "<matplotlib.axes._subplots.AxesSubplot at 0x118c1ac88>"
      ]
     },
     "execution_count": 41,
     "metadata": {},
     "output_type": "execute_result"
    },
    {
     "data": {
      "image/png": "[encoded data removed]",
      "text/plain": [
       "<Figure size 432x288 with 1 Axes>"
      ]
     },
     "metadata": {},
     "output_type": "display_data"
    }
   ],
   "source": [
    "erin = df[df.name == 'Leslie']\n",
    "\n",
    "sns.lineplot(x = 'year', y = 'births', hue = 'sex',data = erin)"
   ]
  },
  {
   "cell_type": "code",
   "execution_count": null,
   "metadata": {},
   "outputs": [],
   "source": []
  }
 ],
 "metadata": {
  "kernelspec": {
   "display_name": "Python 3",
   "language": "python",
   "name": "python3"
  },
  "language_info": {
   "codemirror_mode": {
    "name": "ipython",
    "version": 3
   },
   "file_extension": ".py",
   "mimetype": "text/x-python",
   "name": "python",
   "nbconvert_exporter": "python",
   "pygments_lexer": "ipython3",
   "version": "3.7.3"
  }
 },
 "nbformat": 4,
 "nbformat_minor": 2
}
